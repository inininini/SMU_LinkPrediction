{
 "cells": [
  {
   "cell_type": "markdown",
   "metadata": {},
   "source": [
    "## Autoencoder"
   ]
  },
  {
   "cell_type": "code",
   "execution_count": 1,
   "metadata": {},
   "outputs": [],
   "source": [
    "import json\n",
    "import torch\n",
    "import torch.nn as nn\n",
    "import torch.nn.functional as F\n",
    "import itertools\n",
    "import numpy as np\n",
    "import pandas as pd\n",
    "import scipy.sparse as sp\n",
    "import matplotlib.pyplot as plt"
   ]
  },
  {
   "cell_type": "markdown",
   "metadata": {},
   "source": [
    "1. train with batch\n",
    "2. train-test split\n",
    "3. validate our model with AUC"
   ]
  },
  {
   "attachments": {},
   "cell_type": "markdown",
   "metadata": {},
   "source": [
    "## Load Dataset"
   ]
  },
  {
   "cell_type": "code",
   "execution_count": 2,
   "metadata": {},
   "outputs": [],
   "source": [
    "ppi = pd.read_csv('context-PPI_final.csv').head(1000)"
   ]
  },
  {
   "cell_type": "code",
   "execution_count": 3,
   "metadata": {},
   "outputs": [],
   "source": [
    "mat_df = pd.crosstab(ppi['gene_a'], ppi['gene_b'])\n",
    "idx = mat_df.columns.union(mat_df.index)\n",
    "mat_df = mat_df.reindex(index = idx, columns=idx, fill_value=0)\n",
    "mat = mat_df.values\n"
   ]
  },
  {
   "attachments": {},
   "cell_type": "markdown",
   "metadata": {},
   "source": [
    "## Get Training and Test Sets"
   ]
  },
  {
   "cell_type": "code",
   "execution_count": 4,
   "metadata": {},
   "outputs": [
    {
     "name": "stdout",
     "output_type": "stream",
     "text": [
      "train_num=835, test_num=209\n"
     ]
    }
   ],
   "source": [
    "permut = np.random.permutation(mat.shape[0])\n",
    "train_num = int(mat.shape[0]*0.8)\n",
    "train_idx = permut[:train_num]\n",
    "test_idx = permut[train_num:]\n",
    "print('train_num={}, test_num={}'.format(len(train_idx), len(test_idx)))"
   ]
  },
  {
   "cell_type": "code",
   "execution_count": 5,
   "metadata": {},
   "outputs": [
    {
     "name": "stdout",
     "output_type": "stream",
     "text": [
      "train mat shape torch.Size([835, 1044]) test mat shape torch.Size([209, 1044])\n"
     ]
    }
   ],
   "source": [
    "mat = torch.tensor(mat).float()\n",
    "mat_train = mat[train_idx]\n",
    "mat_test = mat[test_idx]\n",
    "# mat_train =  torch.tensor(mat_train).float()\n",
    "# mat_test = torch.tensor(mat_test).float()\n",
    "print(\"train mat shape\", mat_train.size(), \"test mat shape\",  mat_test.size())"
   ]
  },
  {
   "attachments": {},
   "cell_type": "markdown",
   "metadata": {},
   "source": [
    "## Model"
   ]
  },
  {
   "cell_type": "code",
   "execution_count": 6,
   "metadata": {},
   "outputs": [],
   "source": [
    "class AutoEnc(nn.Module):\n",
    "    def __init__(self, in_dim):\n",
    "        super().__init__()\n",
    "        self.encoder = torch.nn.Sequential(\n",
    "            nn.Linear(in_dim, in_dim//4),\n",
    "            nn.ReLU(),\n",
    "            nn.Linear(in_dim//4, in_dim//8),\n",
    "            nn.ReLU(),\n",
    "            nn.Linear(in_dim//8, in_dim//16),\n",
    "        )\n",
    "        self.decoder = torch.nn.Sequential(\n",
    "            nn.Linear(in_dim//16, in_dim//8),\n",
    "            nn.ReLU(),\n",
    "            nn.Linear(in_dim//8, in_dim//4),\n",
    "            nn.ReLU(),\n",
    "            nn.Linear(in_dim//4, in_dim),\n",
    "            nn.Sigmoid()\n",
    "        )\n",
    "\n",
    "    def forward(self, features):\n",
    "        encoded = self.encoder(features)\n",
    "        decoded = self.decoder(encoded)\n",
    "        return decoded"
   ]
  },
  {
   "attachments": {},
   "cell_type": "markdown",
   "metadata": {},
   "source": [
    "## Torch Dataset and DataLoader"
   ]
  },
  {
   "cell_type": "code",
   "execution_count": 7,
   "metadata": {},
   "outputs": [],
   "source": [
    "from torch.utils.data import Dataset, DataLoader\n",
    "from sklearn.metrics import auc, roc_curve\n"
   ]
  },
  {
   "cell_type": "code",
   "execution_count": 8,
   "metadata": {},
   "outputs": [],
   "source": [
    "class LinkPredDataset(Dataset):\n",
    "    def __init__(self, mat):\n",
    "        self.mat = mat\n",
    "        \n",
    "    def __len__(self):\n",
    "        return self.mat.size(0)\n",
    "    \n",
    "    def __getitem__(self, index):\n",
    "        return self.mat[index]"
   ]
  },
  {
   "cell_type": "code",
   "execution_count": 9,
   "metadata": {},
   "outputs": [],
   "source": [
    "# 하이퍼파라미터 준비\n",
    "EPOCH = 2\n",
    "BATCH_SIZE = 64\n"
   ]
  },
  {
   "cell_type": "code",
   "execution_count": 10,
   "metadata": {},
   "outputs": [],
   "source": [
    "train_ds = LinkPredDataset(mat_train)\n",
    "train_dl = DataLoader(train_ds, \n",
    "                      batch_size=BATCH_SIZE,\n",
    "                      shuffle=False,\n",
    "                      num_workers=1,\n",
    "                      drop_last=True)\n",
    "\n",
    "test_ds = LinkPredDataset(mat_test)\n",
    "test_dl = DataLoader(test_ds,batch_size=BATCH_SIZE,\n",
    "                      shuffle=False,\n",
    "                      num_workers=1,\n",
    "                      drop_last=True)"
   ]
  },
  {
   "attachments": {},
   "cell_type": "markdown",
   "metadata": {},
   "source": [
    "## Train Model"
   ]
  },
  {
   "cell_type": "code",
   "execution_count": 11,
   "metadata": {},
   "outputs": [
    {
     "name": "stdout",
     "output_type": "stream",
     "text": [
      "------------- EPOCH 0 -------------\n",
      "iter 0 Loss tensor(0.2500, grad_fn=<MseLossBackward>)\n",
      "AUC 0.505717720527252\n",
      "iter 1 Loss tensor(0.2500, grad_fn=<MseLossBackward>)\n",
      "AUC 0.505411255238739\n",
      "iter 2 Loss tensor(0.2500, grad_fn=<MseLossBackward>)\n",
      "AUC 0.5051913514955036\n",
      "iter 3 Loss tensor(0.2500, grad_fn=<MseLossBackward>)\n",
      "AUC 0.5050260310889846\n",
      "iter 4 Loss tensor(0.2500, grad_fn=<MseLossBackward>)\n",
      "AUC 0.5049696805727547\n",
      "iter 5 Loss tensor(0.2500, grad_fn=<MseLossBackward>)\n",
      "AUC 0.5049280059103963\n",
      "iter 6 Loss tensor(0.2500, grad_fn=<MseLossBackward>)\n",
      "AUC 0.5048274395356832\n",
      "iter 7 Loss tensor(0.2500, grad_fn=<MseLossBackward>)\n",
      "AUC 0.504806079533772\n",
      "iter 8 Loss tensor(0.2500, grad_fn=<MseLossBackward>)\n",
      "AUC 0.5047631605500654\n",
      "iter 9 Loss tensor(0.2500, grad_fn=<MseLossBackward>)\n",
      "AUC 0.5047382833664272\n",
      "iter 10 Loss tensor(0.2500, grad_fn=<MseLossBackward>)\n",
      "AUC 0.5047153023954858\n",
      "iter 11 Loss tensor(0.2500, grad_fn=<MseLossBackward>)\n",
      "AUC 0.5046668477497125\n",
      "iter 12 Loss tensor(0.2500, grad_fn=<MseLossBackward>)\n",
      "AUC 0.5045489851483432\n",
      "------------- EPOCH 1 -------------\n",
      "iter 0 Loss tensor(0.2500, grad_fn=<MseLossBackward>)\n",
      "AUC 0.5043894572703184\n",
      "iter 1 Loss tensor(0.2500, grad_fn=<MseLossBackward>)\n",
      "AUC 0.5042017088679586\n",
      "iter 2 Loss tensor(0.2500, grad_fn=<MseLossBackward>)\n",
      "AUC 0.5039748742817715\n",
      "iter 3 Loss tensor(0.2500, grad_fn=<MseLossBackward>)\n",
      "AUC 0.5037227342124452\n",
      "iter 4 Loss tensor(0.2500, grad_fn=<MseLossBackward>)\n",
      "AUC 0.5034679374206582\n",
      "iter 5 Loss tensor(0.2500, grad_fn=<MseLossBackward>)\n",
      "AUC 0.5032309476173756\n",
      "iter 6 Loss tensor(0.2500, grad_fn=<MseLossBackward>)\n",
      "AUC 0.5029742465935442\n",
      "iter 7 Loss tensor(0.2500, grad_fn=<MseLossBackward>)\n",
      "AUC 0.5027523103466763\n",
      "iter 8 Loss tensor(0.2500, grad_fn=<MseLossBackward>)\n",
      "AUC 0.5025623744216418\n",
      "iter 9 Loss tensor(0.2500, grad_fn=<MseLossBackward>)\n",
      "AUC 0.5023802268030725\n",
      "iter 10 Loss tensor(0.2500, grad_fn=<MseLossBackward>)\n",
      "AUC 0.5022281738452374\n",
      "iter 11 Loss tensor(0.2500, grad_fn=<MseLossBackward>)\n",
      "AUC 0.5021112099161065\n",
      "iter 12 Loss tensor(0.2500, grad_fn=<MseLossBackward>)\n",
      "AUC 0.5019523164173172\n"
     ]
    }
   ],
   "source": [
    "model = AutoEnc(BATCH_SIZE * mat.size(1))\n",
    "loss_func = nn.MSELoss()\n",
    "optimizer = torch.optim.Adam(model.parameters(), lr=1e-4, weight_decay = 1e8)\n",
    "\n",
    "outputs, losses = [], []\n",
    "\n",
    "for epoch in range(EPOCH):\n",
    "    model.train()\n",
    "    print(\"------------- EPOCH {} -------------\".format(epoch))\n",
    "    for i, mat in enumerate(train_dl):\n",
    "        input = mat.reshape(-1, mat.size(0) * mat.size(1))\n",
    "\n",
    "        reconstructed = model(input)\n",
    "        loss = loss_func(reconstructed, input)\n",
    "        optimizer.zero_grad()\n",
    "        loss.backward(retain_graph=True)\n",
    "        optimizer.step()\n",
    "        print(\"iter\", i, \"Loss\", loss)\n",
    "\n",
    "        losses.append(loss.detach())\n",
    "        outputs.append((epoch, input, reconstructed))\n",
    "\n",
    "        model.eval()\n",
    "        with torch.no_grad():\n",
    "            score = []\n",
    "            for test_mat in test_dl:\n",
    "                test_input = test_mat.reshape(-1, test_mat.size(0) * test_mat.size(1))\n",
    "                test_reconstructed = model(test_input)\n",
    "                \n",
    "                true = test_input.reshape(-1).numpy()\n",
    "                pred = test_reconstructed.reshape(-1).numpy()\n",
    "                fpr, tpr, thresholds = roc_curve(true, pred, pos_label = 1)\n",
    "                score.append(auc(fpr, tpr))\n",
    "            print(\"AUC\", np.mean(score))\n",
    "        \n",
    "                \n",
    "                "
   ]
  },
  {
   "cell_type": "code",
   "execution_count": 12,
   "metadata": {},
   "outputs": [
    {
     "data": {
      "text/plain": [
       "[<matplotlib.lines.Line2D at 0x7fdc6df44f10>]"
      ]
     },
     "execution_count": 12,
     "metadata": {},
     "output_type": "execute_result"
    },
    {
     "data": {
      "image/png": "[encoded data removed]",
      "text/plain": [
       "<Figure size 640x480 with 1 Axes>"
      ]
     },
     "metadata": {},
     "output_type": "display_data"
    }
   ],
   "source": [
    "plt.plot(losses)"
   ]
  },
  {
   "cell_type": "code",
   "execution_count": null,
   "metadata": {},
   "outputs": [],
   "source": []
  },
  {
   "cell_type": "code",
   "execution_count": null,
   "metadata": {},
   "outputs": [],
   "source": []
  },
  {
   "cell_type": "code",
   "execution_count": null,
   "metadata": {},
   "outputs": [],
   "source": []
  },
  {
   "cell_type": "code",
   "execution_count": null,
   "metadata": {},
   "outputs": [],
   "source": []
  }
 ],
 "metadata": {
  "kernelspec": {
   "display_name": "Python 3 (ipykernel)",
   "language": "python",
   "name": "python3"
  },
  "language_info": {
   "codemirror_mode": {
    "name": "ipython",
    "version": 3
   },
   "file_extension": ".py",
   "mimetype": "text/x-python",
   "name": "python",
   "nbconvert_exporter": "python",
   "pygments_lexer": "ipython3",
   "version": "3.9.15"
  },
  "vscode": {
   "interpreter": {
    "hash": "6c9022c6b379d98103f0a712094108d1ddcfb8ec4bb3aa99117b5c914e9b73e9"
   }
  }
 },
 "nbformat": 4,
 "nbformat_minor": 2
}
